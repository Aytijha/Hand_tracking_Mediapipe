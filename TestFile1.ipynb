{
  "nbformat": 4,
  "nbformat_minor": 0,
  "metadata": {
    "colab": {
      "name": "TestFile1.ipynb",
      "provenance": [],
      "authorship_tag": "ABX9TyPMqL85N8qXzWgZDCz4Edvp"
    },
    "kernelspec": {
      "name": "python3",
      "display_name": "Python 3"
    },
    "language_info": {
      "name": "python"
    }
  },
  "cells": [
    {
      "cell_type": "markdown",
      "metadata": {
        "id": "MDwjdD28kZlv"
      },
      "source": [
        "# 1. Install and Import Dependencies"
      ]
    },
    {
      "cell_type": "code",
      "metadata": {
        "colab": {
          "base_uri": "https://localhost:8080/"
        },
        "id": "FhUrrUO7j9v4",
        "outputId": "d533e9b2-6fdd-407c-97da-577ffcd17705"
      },
      "source": [
        "!pip install mediapipe opencv-python"
      ],
      "execution_count": 1,
      "outputs": [
        {
          "output_type": "stream",
          "name": "stdout",
          "text": [
            "Collecting mediapipe\n",
            "  Downloading mediapipe-0.8.7.3-cp37-cp37m-manylinux_2_17_x86_64.manylinux2014_x86_64.whl (30.4 MB)\n",
            "\u001b[K     |████████████████████████████████| 30.4 MB 76 kB/s \n",
            "\u001b[?25hRequirement already satisfied: opencv-python in /usr/local/lib/python3.7/dist-packages (4.1.2.30)\n",
            "Requirement already satisfied: opencv-contrib-python in /usr/local/lib/python3.7/dist-packages (from mediapipe) (4.1.2.30)\n",
            "Requirement already satisfied: wheel in /usr/local/lib/python3.7/dist-packages (from mediapipe) (0.37.0)\n",
            "Requirement already satisfied: attrs>=19.1.0 in /usr/local/lib/python3.7/dist-packages (from mediapipe) (21.2.0)\n",
            "Requirement already satisfied: matplotlib in /usr/local/lib/python3.7/dist-packages (from mediapipe) (3.2.2)\n",
            "Requirement already satisfied: six in /usr/local/lib/python3.7/dist-packages (from mediapipe) (1.15.0)\n",
            "Requirement already satisfied: absl-py in /usr/local/lib/python3.7/dist-packages (from mediapipe) (0.12.0)\n",
            "Requirement already satisfied: numpy in /usr/local/lib/python3.7/dist-packages (from mediapipe) (1.19.5)\n",
            "Requirement already satisfied: protobuf>=3.11.4 in /usr/local/lib/python3.7/dist-packages (from mediapipe) (3.17.3)\n",
            "Requirement already satisfied: cycler>=0.10 in /usr/local/lib/python3.7/dist-packages (from matplotlib->mediapipe) (0.10.0)\n",
            "Requirement already satisfied: pyparsing!=2.0.4,!=2.1.2,!=2.1.6,>=2.0.1 in /usr/local/lib/python3.7/dist-packages (from matplotlib->mediapipe) (2.4.7)\n",
            "Requirement already satisfied: python-dateutil>=2.1 in /usr/local/lib/python3.7/dist-packages (from matplotlib->mediapipe) (2.8.2)\n",
            "Requirement already satisfied: kiwisolver>=1.0.1 in /usr/local/lib/python3.7/dist-packages (from matplotlib->mediapipe) (1.3.1)\n",
            "Installing collected packages: mediapipe\n",
            "Successfully installed mediapipe-0.8.7.3\n"
          ]
        }
      ]
    },
    {
      "cell_type": "code",
      "metadata": {
        "id": "ZXYF2WmHkhPE"
      },
      "source": [
        "import mediapipe as mp\n",
        "# for using Mediapipe's hand landmarks\n",
        "import cv2\n",
        "# for webcam feed\n",
        "import numpy as np\n",
        "# makes it easier to work with the outputs of a mediapipe model\n",
        "import uuid\n",
        "# generates Universally Unique Identifier (a unique string) to be used as our image name\n",
        "import os\n"
      ],
      "execution_count": 3,
      "outputs": []
    },
    {
      "cell_type": "code",
      "metadata": {
        "id": "_7S1CJ8pkzHE"
      },
      "source": [
        "#set up mediapipe hands model\n",
        "\n",
        "mp_drawing = mp.solutions.drawing_utils\n",
        "# makes it easier to render all the different landmarks in our hand\n",
        "# landmark - a joint in our hand (represented by the red dots in the below figure)\n",
        "mp_hands = mp.solutions.hands\n",
        "# contains everything that I might need to work with"
      ],
      "execution_count": 6,
      "outputs": []
    },
    {
      "cell_type": "markdown",
      "metadata": {
        "id": "MvLFF1XwXQQX"
      },
      "source": [
        "# 2. Draw Hands"
      ]
    },
    {
      "cell_type": "markdown",
      "metadata": {
        "id": "QvoxA_tUW541"
      },
      "source": [
        "<img src=https://google.github.io/mediapipe/images/mobile/hand_landmarks.png>"
      ]
    },
    {
      "cell_type": "code",
      "metadata": {
        "id": "2-vztAGT7Va6"
      },
      "source": [
        "cap = cv2.VideoCapture(0)\n",
        "# getting the webcam feed from default device (i.e. Device 0)\n",
        "\n",
        "with mp_hands.Hands(min_detection_confidence=0.8, min_tracking_confidence=0.5) as hands: # instantiating MediaPipe Hands model\n",
        "# Detection Confidence - threshold for the initial detection to be successful\n",
        "# Tracking Confidence -  threshold for tracking after initial detection\n",
        "    while cap.isOpened(): # reading through each frame captured from the webcam\n",
        "        ret, frame = cap.read() # read each frame (extracting/unpacking all the frames)\n",
        "        # the 'frame' variable is going to represent each image from our webcam\n",
        "        # return value is stored in 'ret', but it's not important here\n",
        "        \n",
        "        image = cv2.cvtColor(frame, cv2.COLOR_BGR2RGB) # changing color format from BGR to RGB\n",
        "        \n",
        "        image = cv2.flip(image, 1) # Flip on horizontal\n",
        "        \n",
        "        image.flags.writeable = False # Set flag\n",
        "        \n",
        "        results = hands.process(image) # Detections\n",
        "        \n",
        "        image.flags.writeable = True # Set flag to true\n",
        "        \n",
        "        image = cv2.cvtColor(image, cv2.COLOR_RGB2BGR) # RGB 2 BGR\n",
        "        \n",
        "        print(results) # printing the detections\n",
        "        \n",
        "        # Rendering results\n",
        "        if results.multi_hand_landmarks:\n",
        "            for num, hand in enumerate(results.multi_hand_landmarks):\n",
        "                mp_drawing.draw_landmarks(image, hand, mp_hands.HAND_CONNECTIONS, \n",
        "                                        mp_drawing.DrawingSpec(color=(121, 22, 76), thickness=2, circle_radius=4),\n",
        "                                        mp_drawing.DrawingSpec(color=(250, 44, 250), thickness=2, circle_radius=2),\n",
        "                                         )\n",
        "            \n",
        "        \n",
        "        cv2.imshow('Hand Tracking', image) # to show every frame on the screen\n",
        "        #format: cv2.imshow('name we want to give to the frame', image to be shown)\n",
        "\n",
        "        if cv2.waitKey(10) & 0xFF == ord('q'): # to quit from the loop if we press 'q'\n",
        "            break\n",
        "\n",
        "cap.release() # to release the webcam once we quit\n",
        "cv2.destroyAllWindows() # to destroy/close the webcam window\n"
      ],
      "execution_count": 9,
      "outputs": []
    }
  ]
}